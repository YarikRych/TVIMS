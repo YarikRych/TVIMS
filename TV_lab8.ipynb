{
 "cells": [
  {
   "cell_type": "markdown",
   "id": "16e13263-c796-46e1-8215-a814acd74d5d",
   "metadata": {},
   "source": [
    "# Задание 1"
   ]
  },
  {
   "cell_type": "code",
   "execution_count": 8,
   "id": "13e3ec1d-fb2f-4040-bfea-ffd26b51cd03",
   "metadata": {},
   "outputs": [
    {
     "name": "stdout",
     "output_type": "stream",
     "text": [
      "Диапазоны значений M, где Иван прав (p > 0.05):\n",
      "[0.5  0.61 0.62 0.63 0.64 0.65 0.66 0.67 0.68 0.69 0.7  0.71 0.72 0.73\n",
      " 0.74 0.75 0.76 0.77 0.78 0.79 0.8  0.81 0.82 0.83 0.84 0.85 0.86 0.87\n",
      " 0.88 0.89 0.9  0.92 0.93 0.94 0.95 0.96 0.97 0.98 0.99 1.  ]\n",
      "\n",
      "Диапазоны значений M, где Петр прав (p ≤ 0.05):\n",
      "[0.51 0.52 0.53 0.54 0.55 0.56 0.57 0.58 0.59 0.6  0.91]\n"
     ]
    }
   ],
   "source": [
    "import pandas as pd\n",
    "import numpy as np\n",
    "from scipy import stats\n",
    "from scipy.stats import norm\n",
    "\n",
    "data = pd.read_excel('Data_8_1.xlsx',sheet_name='Журнал 1 курс',header=0)\n",
    "data_clean = data.replace('-', np.nan).dropna()\n",
    "sub1 = 'МА_итог'  \n",
    "sub2 = 'АиГ_итог'  \n",
    "\n",
    "def comp(s1,s2,M_val):\n",
    "    results = []\n",
    "    for M in M_val:\n",
    "        n1 = len(s1)\n",
    "        k1 = np.sum(s1>=M)\n",
    "        p1 = k1/n1 if n1>0 else 0\n",
    "        n2 = len(s2)\n",
    "        k2 = np.sum(s2>=M)\n",
    "        p2 = k2/n2 if n2>0 else 0\n",
    "        h = (k1+k2)/(n1+n2) if (n1+n2)>0 else 0\n",
    "        if h in (0,1):\n",
    "            z = 0\n",
    "        else:\n",
    "            z = (p1-p2) / np.sqrt(h*(1-h)*(1/n1 + 1/n2))\n",
    "\n",
    "        p_val = 2*(1 - norm.cdf(abs(z)))\n",
    "        results.append({'M': M, 'p_val': p_val}) \n",
    "    return pd.DataFrame(results)\n",
    "\n",
    "M_val = np.arange(0.5,1.01,0.01)\n",
    "results = comp(data_clean[sub1],data_clean[sub2],M_val)\n",
    "i_ranges = results[results['p_val'] > 0.05]['M'].values\n",
    "p_ranges = results[results['p_val'] <= 0.05]['M'].values\n",
    "\n",
    "print('Диапазоны значений M, где Иван прав (p > 0.05):')\n",
    "print(np.round(i_ranges,2))\n",
    "print('\\nДиапазоны значений M, где Петр прав (p ≤ 0.05):')\n",
    "print(np.round(p_ranges,2))"
   ]
  },
  {
   "cell_type": "markdown",
   "id": "8321d195-74c8-4590-8d88-c63213a3decb",
   "metadata": {},
   "source": [
    "# Задание 2"
   ]
  },
  {
   "cell_type": "markdown",
   "id": "945a7dfd-c5bb-4680-92ec-e95265b5c75a",
   "metadata": {},
   "source": [
    "# 1)"
   ]
  },
  {
   "cell_type": "code",
   "execution_count": 9,
   "id": "07ff65df-8fbf-42a0-bdd6-7ce38338bc8f",
   "metadata": {},
   "outputs": [
    {
     "name": "stdout",
     "output_type": "stream",
     "text": [
      "F-статистика = 1.211\n",
      "Критическое значение F: 2.033\n",
      "p-value = 0.597\n",
      "Вывод: Гипотеза H₀ принимается(дисперсии равны, F ≤ 2.033)\n"
     ]
    }
   ],
   "source": [
    "mA, sigmaA = 10, 2     \n",
    "mB, sigmaB = 10.5, 1.8 \n",
    "nA, nB = 30, 40        \n",
    "np.random.seed(42)\n",
    "sam_A = np.random.normal(mA,sigmaA,nA)\n",
    "sam_B = np.random.normal(mB,sigmaB,nB)\n",
    "\n",
    "S1,S2 = np.var(sam_A,ddof=1), np.var(sam_B,ddof=1)  \n",
    "#S1^2 > S2^2\n",
    "if S1 > S2:\n",
    "    F = S1/S2\n",
    "else:\n",
    "    F = S2/S1\n",
    "\n",
    "alpha = 0.05\n",
    "F_crit = stats.f.ppf(1 - alpha/2,nB-1,nA-1)\n",
    "p_val = 2 * (1 - stats.f.cdf(F,nB-1,nA-1))\n",
    "\n",
    "print(f'F-статистика = {F:.3f}')\n",
    "print(f'Критическое значение F: {F_crit:.3f}')\n",
    "print(f'p-value = {p_val:.3f}')\n",
    "if F>F_crit:\n",
    "    print(f'Вывод: Гипотеза H₀ отвергается(дисперсии не равны, F > {F_crit:.3f})')\n",
    "else:\n",
    "    print(f'Вывод: Гипотеза H₀ принимается(дисперсии равны, F ≤ {F_crit:.3f})')"
   ]
  },
  {
   "cell_type": "markdown",
   "id": "779de3dc-7184-41af-9447-ac142abe6887",
   "metadata": {},
   "source": [
    "# 2)"
   ]
  },
  {
   "cell_type": "code",
   "execution_count": 10,
   "id": "807f758e-bc5e-47d3-887a-faad1ccdaccc",
   "metadata": {},
   "outputs": [
    {
     "name": "stdout",
     "output_type": "stream",
     "text": [
      "T-статистика = -1.712\n",
      "p-value = 0.092\n",
      "Вывод: Гипотеза H₀ принимается(мат.ожидания равны) при alpha < 0.092\n"
     ]
    }
   ],
   "source": [
    "equal_var = (p_val>alpha)\n",
    "T_stat,p_val_t = stats.ttest_ind(sam_A,sam_B,equal_var=equal_var)\n",
    "\n",
    "print(f'T-статистика = {T_stat:.3f}')\n",
    "print(f'p-value = {p_val_t:.3f}')\n",
    "\n",
    "if p_val_t > alpha:\n",
    "    print(f'Вывод: Гипотеза H₀ принимается(мат.ожидания равны) при alpha < {p_val_t:.3f}')\n",
    "else:\n",
    "    print(f'Вывод: Гипотеза H₀ отвергается (мат.ожидания не равны)')"
   ]
  }
 ],
 "metadata": {
  "kernelspec": {
   "display_name": "Python 3 (ipykernel)",
   "language": "python",
   "name": "python3"
  },
  "language_info": {
   "codemirror_mode": {
    "name": "ipython",
    "version": 3
   },
   "file_extension": ".py",
   "mimetype": "text/x-python",
   "name": "python",
   "nbconvert_exporter": "python",
   "pygments_lexer": "ipython3",
   "version": "3.13.2"
  }
 },
 "nbformat": 4,
 "nbformat_minor": 5
}
